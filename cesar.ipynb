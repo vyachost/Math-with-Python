{
 "cells": [
  {
   "cell_type": "markdown",
   "metadata": {},
   "source": [
    "## Використання шифру Цезаря"
   ]
  },
  {
   "cell_type": "code",
   "execution_count": 59,
   "metadata": {},
   "outputs": [
    {
     "data": {
      "text/plain": [
       "'WXXWGWZWXNWLQB'"
      ]
     },
     "execution_count": 59,
     "metadata": {},
     "output_type": "execute_result"
    }
   ],
   "source": [
    "def caesar(text, key):\n",
    "    base = 'ABCDEFGHIJKLMNOPQRSTUVWXYZ'\n",
    "    l = ''\n",
    "    for i in text:\n",
    "        if i not in ' .,;:-_\\'?!': l = l + base[(base.find(i.upper()) + key) % 26]\n",
    "    return l\n",
    "\n",
    "caesar('Abba. Kadabra - Puf', -30)"
   ]
  },
  {
   "cell_type": "markdown",
   "metadata": {},
   "source": [
    "## Використання шифру Цезаря для довільної послідовності"
   ]
  },
  {
   "cell_type": "code",
   "execution_count": 60,
   "metadata": {},
   "outputs": [
    {
     "data": {
      "text/plain": [
       "'WXXWGWZWXNWLQB'"
      ]
     },
     "execution_count": 60,
     "metadata": {},
     "output_type": "execute_result"
    }
   ],
   "source": [
    "def caesar(text, key, alphabet = 'ABCDEFGHIJKLMNOPQRSTUVWXYZ'):\n",
    "    l = ''\n",
    "    for i in text:\n",
    "        if i not in ' .,;:-_\\'!?': l = l + alphabet[(alphabet.find(i.upper()) + key) % len(alphabet)]\n",
    "    return l\n",
    "\n",
    "caesar('Abba. Kadabra - Puf', -30)"
   ]
  },
  {
   "cell_type": "markdown",
   "metadata": {},
   "source": [
    "## Перебор варіантів для brutforce шифру Цезаря"
   ]
  },
  {
   "cell_type": "code",
   "execution_count": 61,
   "metadata": {},
   "outputs": [
    {
     "name": "stdout",
     "output_type": "stream",
     "text": [
      "APPLE ZOOKD YNNJC XMMIB WLLHA VKKGZ UJJFY TIIEX SHHDW RGGCV QFFBU PEEAT ODDZS NCCYR MBBXQ LAAWP KZZVO JYYUN IXXTM HWWSL GVVRK FUUQJ ETTPI DSSOH CRRNG "
     ]
    }
   ],
   "source": [
    "def bruteforce(text, alphabet = 'ABCDEFGHIJKLMNOPQRSTUVWXYZ'):\n",
    "    for j in range(1, len(alphabet)):\n",
    "        l = ''\n",
    "        for i in text:\n",
    "            if i not in ' .,;:-_\\'!?': l = l + alphabet[(alphabet.find(i.upper()) - j) % len(alphabet)]\n",
    "        print(l, end=' ')\n",
    "\n",
    "bruteforce('BQQMF')"
   ]
  },
  {
   "cell_type": "markdown",
   "metadata": {},
   "source": [
    "## Використання шифру Віженера"
   ]
  },
  {
   "cell_type": "code",
   "execution_count": 62,
   "metadata": {},
   "outputs": [
    {
     "data": {
      "text/plain": [
       "'UUNEFWKXKVUEECMDVLPRUQQYCYTIHWUKPZ'"
      ]
     },
     "execution_count": 62,
     "metadata": {},
     "output_type": "execute_result"
    }
   ],
   "source": [
    "def jarriquez_encryption(text, key, alphabet='ABCDEFGHIJKLMNOPQRSTUVWXYZ', reverse=False):\n",
    "    l = ''\n",
    "    j = 0\n",
    "    if reverse:\n",
    "        for i in text:\n",
    "            if i not in ' .,;:-_\\'!?':\n",
    "                l = l + alphabet[(alphabet.find(i.upper()) - int(str(key)[j])) % len(alphabet)]\n",
    "                j += 1\n",
    "                if j == len(str(key)): j = 0\n",
    "    else:\n",
    "        for i in text:\n",
    "            if i not in ' .,;:-_\\'!?':\n",
    "                l = l + alphabet[(alphabet.find(i.upper()) + int(str(key)[j])) % len(alphabet)]\n",
    "                j += 1\n",
    "                if j == len(str(key)): j = 0\n",
    "    return l\n",
    "\n",
    "jarriquez_encryption('Some encripted text for this assignment', 26101986)\n"
   ]
  },
  {
   "cell_type": "markdown",
   "metadata": {},
   "source": [
    "## Використання цилиндру Джеферсона"
   ]
  },
  {
   "cell_type": "code",
   "execution_count": 63,
   "metadata": {},
   "outputs": [
    {
     "name": "stdout",
     "output_type": "stream",
     "text": [
      "Step 4: True\n",
      "Step 4 (reverse): True\n",
      "Step 13: True\n",
      "Step 13 (reverse): True\n"
     ]
    }
   ],
   "source": [
    "import random\n",
    "random.seed(42)\n",
    "\n",
    "clear_alphabet = 'ABCDEFGHIJKLMNOPQRSTUVWXYZ'\n",
    "n = 6\n",
    "text = 'Some encripted text'\n",
    "\n",
    "def disc_generator(alphabet):\n",
    "    a = list(alphabet)\n",
    "    random.shuffle(a)\n",
    "    return ''.join(a)\n",
    "\n",
    "\n",
    "discs = [disc_generator(clear_alphabet) for i in range(n)]\n",
    "\n",
    "def jefferson_encryption(text, discs, step, reverse=False):\n",
    "    l, j = '', 0\n",
    "    if reverse: \n",
    "        for i in text:\n",
    "            if i not in ' .,;:-_\\'!?':\n",
    "                l = l + discs[j][(discs[j].find(i.upper()) - step) % len(discs[j])]\n",
    "                j += 1\n",
    "                if j == n: j = 0\n",
    "    else:\n",
    "        for i in text:\n",
    "            if i not in ' .,;:-_\\'!?':\n",
    "                l = l + discs[j][(discs[j].find(i.upper()) + step) % len(discs[j])]\n",
    "                j += 1\n",
    "                if j == n: j = 0\n",
    "    return l\n",
    "\n",
    "step4 = 'NUXHUEVGQBIJJZNVI'\n",
    "step4reverse = 'SOMEENCRIPTEDTEXT'\n",
    "print('Step 4:', jefferson_encryption(text, discs, 4, reverse=False) == step4)\n",
    "print('Step 4 (reverse):', jefferson_encryption(step4, discs, 4, reverse=True) == step4reverse)\n",
    "\n",
    "step13 = 'DSZNNXZCBOSASGTAS'\n",
    "step13reverse = 'SOMEENCRIPTEDTEXT'\n",
    "print('Step 13:', jefferson_encryption(text, discs, 13, reverse=False) == step13)\n",
    "print('Step 13 (reverse):', jefferson_encryption(step13, discs, 13, reverse=True) == step13reverse)"
   ]
  },
  {
   "cell_type": "markdown",
   "metadata": {},
   "source": [
    "## Шифрування пірата Кідда "
   ]
  },
  {
   "cell_type": "code",
   "execution_count": 97,
   "metadata": {},
   "outputs": [
    {
     "name": "stdout",
     "output_type": "stream",
     "text": [
      "True\n",
      "True\n",
      "All right\n"
     ]
    }
   ],
   "source": [
    "def kidds_encryption(text, reverse=False):\n",
    "    d1 =  {'e': '8', 't': ';', 'h': '4', 'o': '‡', 's': ')', 'n': '*', 'a': '5', 'i': '6', 'r': '(', 'f': '1', 'd': '†', 'l': '0', 'm': '9', 'b': '2', 'y': ':', 'g': '3', 'u': '?', 'v': '¶', 'c': '-', 'p': '.'}\n",
    "    d2 =  {'8': 'e', ';': 't', '4': 'h', '‡': 'o', ')': 's', '*': 'n', '5': 'a', '6': 'i', '(': 'r', '1': 'f', '†': 'd', '0': 'l', '9': 'm', '2': 'b', ':': 'y', '3': 'g', '?': 'u', '¶': 'v', '-': 'c', '.': 'p'}\n",
    "    l = ''\n",
    "    for i in text:\n",
    "        if reverse: \n",
    "            if i.lower() in d2.keys(): \n",
    "                l = l + str(d2[i.lower()])\n",
    "        else: \n",
    "            if i.lower() in d1.keys(): \n",
    "                l = l + str(d1[i.lower()])\n",
    "    return l\n",
    "\n",
    "text = 'ethosnairfdlmbyguvcp'\n",
    "origin = '8;4‡)*56(1†092:3?¶-.'\n",
    "print(kidds_encryption(text) == origin)\n",
    "print(kidds_encryption(origin, True) == text)\n",
    "print('All right')\n",
    "\n"
   ]
  }
 ],
 "metadata": {
  "kernelspec": {
   "display_name": "Python 3",
   "language": "python",
   "name": "python3"
  },
  "language_info": {
   "codemirror_mode": {
    "name": "ipython",
    "version": 3
   },
   "file_extension": ".py",
   "mimetype": "text/x-python",
   "name": "python",
   "nbconvert_exporter": "python",
   "pygments_lexer": "ipython3",
   "version": "3.12.3"
  }
 },
 "nbformat": 4,
 "nbformat_minor": 2
}
