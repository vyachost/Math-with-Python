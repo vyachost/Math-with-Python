{
 "cells": [
  {
   "cell_type": "markdown",
   "metadata": {},
   "source": [
    "## Так, задачки на розрахунок"
   ]
  },
  {
   "cell_type": "code",
   "execution_count": 42,
   "metadata": {},
   "outputs": [],
   "source": [
    "from math import atan, exp\n",
    "l = [1, 10, 100, 1000, 10000, 100000, 1000000, 10000000, 100000000] "
   ]
  },
  {
   "cell_type": "code",
   "execution_count": 43,
   "metadata": {},
   "outputs": [
    {
     "name": "stdout",
     "output_type": "stream",
     "text": [
      "1.571\n",
      "2.942\n",
      "3.122\n",
      "3.14\n",
      "3.141\n",
      "3.142\n",
      "3.142\n",
      "3.142\n",
      "3.142\n"
     ]
    }
   ],
   "source": [
    "def f(x):\n",
    "    return 2 * atan(x)\n",
    "\n",
    "for x in l:\n",
    "    print(round(f(x), 3))"
   ]
  },
  {
   "cell_type": "code",
   "execution_count": 44,
   "metadata": {},
   "outputs": [],
   "source": [
    "def def_e(x):\n",
    "    dx = 0.001\n",
    "    return round((exp(x+dx)-exp(x))/dx)"
   ]
  },
  {
   "cell_type": "code",
   "execution_count": 45,
   "metadata": {},
   "outputs": [
    {
     "data": {
      "text/plain": [
       "[1, 2, 5, 13, 34]"
      ]
     },
     "execution_count": 45,
     "metadata": {},
     "output_type": "execute_result"
    }
   ],
   "source": [
    "L = [1, 1, 2, 3, 5, 8, 13, 21, 34]\n",
    "def even_indeces(L):\n",
    "    return [L[i] for i in range(0, len(L), 2)]\n",
    "\n",
    "even_indeces(L)"
   ]
  },
  {
   "cell_type": "code",
   "execution_count": 46,
   "metadata": {},
   "outputs": [
    {
     "name": "stdout",
     "output_type": "stream",
     "text": [
      "5\n"
     ]
    }
   ],
   "source": [
    "# n = int(input()) \n",
    "n = 5\n",
    "res = 0\n",
    "for i in range(n+1):\n",
    "    if (i % 5 == 0) and (i % 3 != 0): res += i\n",
    "\n",
    "print(res)"
   ]
  },
  {
   "cell_type": "code",
   "execution_count": 47,
   "metadata": {},
   "outputs": [
    {
     "name": "stdout",
     "output_type": "stream",
     "text": [
      "[0, 42, 19]\n"
     ]
    }
   ],
   "source": [
    "list_a = [0, 2, 3, 4, 5, 19, 42]\n",
    "list_b = [0, 6, 19, 33, 42, 55, 66, 77, 99, 101, 256]\n",
    "\n",
    "def common(list_a, list_b):\n",
    "    return list(set(list_a) & set(list_b))\n",
    "\n",
    "print(common(list_a, list_b))"
   ]
  },
  {
   "cell_type": "code",
   "execution_count": 48,
   "metadata": {},
   "outputs": [
    {
     "data": {
      "text/plain": [
       "['x-files', 'xapple', 'xyz', '', 'apple', 'extra', 'mix']"
      ]
     },
     "execution_count": 48,
     "metadata": {},
     "output_type": "execute_result"
    }
   ],
   "source": [
    "words = ['x-files', 'xapple', 'xyz', '', 'apple', 'extra', 'mix']\n",
    "\n",
    "def front_x(words):\n",
    "    a = [i for i in words if (len(i)>0) and (i[0] == 'x')]\n",
    "    b = [i for i in words if ((len(i)>0) and (i[0] != 'x')) or (len(i) == 0)]\n",
    "    return sorted(a) + sorted(b)\n",
    "\n",
    "front_x(words)"
   ]
  },
  {
   "cell_type": "code",
   "execution_count": 49,
   "metadata": {},
   "outputs": [
    {
     "name": "stdout",
     "output_type": "stream",
     "text": [
      "1\n",
      "1\n",
      "5\n",
      "34\n"
     ]
    }
   ],
   "source": [
    "f = [0, 1, 1, 2, 3, 5, 8, 13, 21, 34, 55, 89, 144, 233, 377, 610, 987, 1597, 2584, 4181, 6765, 10946, 17711]\n",
    "\n",
    "def fib(n):\n",
    "    x0 = 0\n",
    "    x1 = 1\n",
    "    for i in range(2, n+1):\n",
    "        x0, x1 = x1, x0 + x1\n",
    "    return x1\n",
    "\n",
    "n = [1, 2, 5, 9]\n",
    "for i in n:\n",
    "    print(fib(i))"
   ]
  },
  {
   "cell_type": "code",
   "execution_count": 50,
   "metadata": {},
   "outputs": [
    {
     "name": "stdout",
     "output_type": "stream",
     "text": [
      "True\n",
      "False\n",
      "False\n",
      "True\n"
     ]
    }
   ],
   "source": [
    "def is_prime(n):\n",
    "    r = True\n",
    "    for i in range(2, int(n ** 0.5)+1):\n",
    "        if n % i == 0:\n",
    "            r = False\n",
    "            break\n",
    "    return r\n",
    "\n",
    "l = [7, 15, 99, 103]\n",
    "for i in l:\n",
    "    print(is_prime(i))"
   ]
  },
  {
   "cell_type": "code",
   "execution_count": 51,
   "metadata": {},
   "outputs": [
    {
     "name": "stdout",
     "output_type": "stream",
     "text": [
      "Всего пончиков: 7\n"
     ]
    }
   ],
   "source": [
    "# n = int(input())\n",
    "n = 7\n",
    "def donuts(n):\n",
    "    if n <= 9: return str(n)\n",
    "    else: return 'много'\n",
    "\n",
    "print('Всего пончиков: '+ donuts(n))"
   ]
  },
  {
   "cell_type": "code",
   "execution_count": 52,
   "metadata": {},
   "outputs": [
    {
     "name": "stdout",
     "output_type": "stream",
     "text": [
      "['Слво', 'xyyz', '']\n"
     ]
    }
   ],
   "source": [
    "s = ['Слово', 'xyz', 'a']\n",
    "def both_ends(s):\n",
    "    if len(s) < 2: return ''\n",
    "    else: return s[:2]+s[-2:]\n",
    "\n",
    "\n",
    "print([both_ends(i) for i in s])"
   ]
  },
  {
   "cell_type": "code",
   "execution_count": 53,
   "metadata": {},
   "outputs": [
    {
     "name": "stdout",
     "output_type": "stream",
     "text": [
      "260*8904*506\n"
     ]
    }
   ],
   "source": [
    "# s = input()\n",
    "s = '260289042506'\n",
    "def fix_start(s):\n",
    "    return s[0]+s[1:].replace(s[0],'*')\n",
    "\n",
    "print(fix_start(s))"
   ]
  },
  {
   "cell_type": "code",
   "execution_count": null,
   "metadata": {},
   "outputs": [],
   "source": [
    "import os.path\n",
    "event = \"git fetch origin\"\n",
    "file_name = \"git.log\"\n",
    "\n",
    "\n",
    "if  os.path.exists(file_name): \n",
    "    with open(file_name, 'r') as f:\n",
    "        l = f.readlines()\n",
    "    l.insert(0, l[0].split()[0] + \" \" + str(int(l[0].split()[1])+1) + \" - '\" + event + \"'\\n\")\n",
    "else: \n",
    "    l = [\"event 1 - '\" + event + \"'\\n\"]\n",
    "\n",
    "with open(file_name, 'w') as f:\n",
    "    f.writelines(l)\n"
   ]
  }
 ],
 "metadata": {
  "kernelspec": {
   "display_name": "Python 3",
   "language": "python",
   "name": "python3"
  },
  "language_info": {
   "codemirror_mode": {
    "name": "ipython",
    "version": 3
   },
   "file_extension": ".py",
   "mimetype": "text/x-python",
   "name": "python",
   "nbconvert_exporter": "python",
   "pygments_lexer": "ipython3",
   "version": "3.12.3"
  }
 },
 "nbformat": 4,
 "nbformat_minor": 2
}
