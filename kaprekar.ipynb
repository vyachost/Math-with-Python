{
 "cells": [
  {
   "cell_type": "code",
   "execution_count": 1,
   "metadata": {},
   "outputs": [],
   "source": [
    "n = 103303"
   ]
  },
  {
   "cell_type": "code",
   "execution_count": 2,
   "metadata": {},
   "outputs": [],
   "source": [
    "def numerics(n):\n",
    "    return [int(i) for i in list(str(n))]\n",
    "\n",
    "# numerics(n)"
   ]
  },
  {
   "cell_type": "code",
   "execution_count": 3,
   "metadata": {},
   "outputs": [],
   "source": [
    "def kaprekar_step(L):\n",
    "    return int(''.join(map(str, sorted(L, reverse=True)))) - int(''.join(map(str, sorted(L, reverse=False))))\n",
    "\n",
    "# kaprekar_step(numerics(n))"
   ]
  },
  {
   "cell_type": "code",
   "execution_count": 4,
   "metadata": {},
   "outputs": [],
   "source": [
    "def kaprekar_check(n):\n",
    "    if n in [100, 1000, 100000]: return False\n",
    "    else:\n",
    "        l = numerics(n)\n",
    "        if len(set(l)) == 1: return False\n",
    "        elif len(l) not in [3, 4, 6]: return False\n",
    "        else: return True\n",
    "\n",
    "# kaprekar_check(n)"
   ]
  },
  {
   "cell_type": "code",
   "execution_count": 5,
   "metadata": {},
   "outputs": [
    {
     "name": "stdout",
     "output_type": "stream",
     "text": [
      "103303\n",
      "331767\n",
      "642654\n",
      "420876\n",
      "851742\n",
      "750843\n",
      "840852\n",
      "860832\n",
      "862632\n",
      "Следующее число - 642654, кажется процесс зациклился...\n"
     ]
    }
   ],
   "source": [
    "def kaprekar_loop(n):\n",
    "    if kaprekar_check(n):\n",
    "        n_old = []\n",
    "        while n not in [495, 6174, 549945, 631764]:\n",
    "            if n in n_old:\n",
    "                print(f'Следующее число - {n}, кажется процесс зациклился...')\n",
    "                break\n",
    "            print(n)\n",
    "            n_old.append(n)\n",
    "            n = kaprekar_step(numerics(n))\n",
    "        else: print(n)\n",
    "    else: print(f'Ошибка! На вход подано число {n}, не удовлетворяющее условиям процесса Капрекара')\n",
    "\n",
    "kaprekar_loop(n)"
   ]
  }
 ],
 "metadata": {
  "kernelspec": {
   "display_name": "Python 3",
   "language": "python",
   "name": "python3"
  },
  "language_info": {
   "codemirror_mode": {
    "name": "ipython",
    "version": 3
   },
   "file_extension": ".py",
   "mimetype": "text/x-python",
   "name": "python",
   "nbconvert_exporter": "python",
   "pygments_lexer": "ipython3",
   "version": "3.12.3"
  }
 },
 "nbformat": 4,
 "nbformat_minor": 2
}
