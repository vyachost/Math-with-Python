{
 "cells": [
  {
   "cell_type": "markdown",
   "metadata": {},
   "source": [
    "## Границя функції"
   ]
  },
  {
   "cell_type": "code",
   "execution_count": 483,
   "metadata": {},
   "outputs": [],
   "source": [
    "# імпортуємо бібліотеку math\n",
    "import math\n",
    "# задамо значення для обчислень\n",
    "dx_plus = 10000000\n",
    "dx_minus = -100000000"
   ]
  },
  {
   "cell_type": "code",
   "execution_count": 484,
   "metadata": {},
   "outputs": [],
   "source": [
    "# функція для прикладу\n",
    "def f(x):\n",
    "    return (2*(x**2) - 3*x - 5)/(3*(x**2) + x + 1)\n",
    "# початкове значення для обчислення границі в цій точці\n",
    "x0 = 0"
   ]
  },
  {
   "cell_type": "code",
   "execution_count": 485,
   "metadata": {},
   "outputs": [
    {
     "name": "stdout",
     "output_type": "stream",
     "text": [
      "0.667\n",
      "0.667\n"
     ]
    }
   ],
   "source": [
    "print(round(f(dx_plus), 3))\n",
    "print(round(f(dx_minus), 3))"
   ]
  },
  {
   "cell_type": "code",
   "execution_count": 486,
   "metadata": {},
   "outputs": [],
   "source": [
    "def f2(x):\n",
    "    return (math.sin((math.pi*x)/2)/x)"
   ]
  },
  {
   "cell_type": "code",
   "execution_count": 487,
   "metadata": {},
   "outputs": [
    {
     "name": "stdout",
     "output_type": "stream",
     "text": [
      "0\n"
     ]
    }
   ],
   "source": [
    "print(round(f2(dx_plus)))"
   ]
  },
  {
   "cell_type": "markdown",
   "metadata": {},
   "source": [
    "## Похідна за означенням"
   ]
  },
  {
   "cell_type": "code",
   "execution_count": 488,
   "metadata": {},
   "outputs": [],
   "source": [
    "x0 = 3\n",
    "\n",
    "# функція для прикладу\n",
    "def func(x):\n",
    "    return x**2"
   ]
  },
  {
   "cell_type": "code",
   "execution_count": 489,
   "metadata": {},
   "outputs": [],
   "source": [
    "def derivative(f, x0=0):\n",
    "    dx = 0.0000001\n",
    "    return round((f(x0+dx) - f(x0))/dx, 3)"
   ]
  },
  {
   "cell_type": "code",
   "execution_count": 490,
   "metadata": {},
   "outputs": [
    {
     "data": {
      "text/plain": [
       "6.0"
      ]
     },
     "execution_count": 490,
     "metadata": {},
     "output_type": "execute_result"
    }
   ],
   "source": [
    "# обчислення границі похідної\n",
    "derivative(func, x0)"
   ]
  },
  {
   "cell_type": "markdown",
   "metadata": {},
   "source": [
    "## Витягнути багатомірний список"
   ]
  },
  {
   "cell_type": "code",
   "execution_count": 491,
   "metadata": {},
   "outputs": [],
   "source": [
    "l = [['one'], [343, 2], [[9, 9, 9], [[666, 666], [[[[42]]]]]]]"
   ]
  },
  {
   "cell_type": "code",
   "execution_count": 492,
   "metadata": {},
   "outputs": [],
   "source": [
    "def list_pull(L):\n",
    "    r = []\n",
    "    for i in L:\n",
    "        if type(i) == list: r.extend(list_pull(i))\n",
    "        else: r.append(i)\n",
    "    return r"
   ]
  },
  {
   "cell_type": "code",
   "execution_count": 493,
   "metadata": {},
   "outputs": [
    {
     "data": {
      "text/plain": [
       "['one', 343, 2, 9, 9, 9, 666, 666, 42]"
      ]
     },
     "execution_count": 493,
     "metadata": {},
     "output_type": "execute_result"
    }
   ],
   "source": [
    "list_pull(l)"
   ]
  },
  {
   "cell_type": "code",
   "execution_count": 494,
   "metadata": {},
   "outputs": [],
   "source": [
    "def list_copy(L):\n",
    "    r = []\n",
    "    for i in L:\n",
    "        if type(i) == list:\n",
    "            r.append(list(list_copy(i)))\n",
    "        else:\n",
    "            r.append(i)\n",
    "    return r"
   ]
  },
  {
   "cell_type": "code",
   "execution_count": 495,
   "metadata": {},
   "outputs": [
    {
     "name": "stdout",
     "output_type": "stream",
     "text": [
      "[['one'], [343, 2], [[9, 9, 9], [[666, 666], [[[['z']]]]]]]\n",
      "[['one'], [343, 2], [[9, 9, 9], [[666, 666], [[[[42]]]]]]]\n"
     ]
    }
   ],
   "source": [
    "L1 = [['one'], [343, 2], [[9, 9, 9], [[666, 666], [[[[42]]]]]]]\n",
    "L2 = list_copy(L1)\n",
    "L1[2][1][1][0][0][0][0] = 'z'\n",
    "print(L1)\n",
    "print(L2)"
   ]
  },
  {
   "cell_type": "code",
   "execution_count": 496,
   "metadata": {},
   "outputs": [],
   "source": [
    "def verbing(s):\n",
    "    if len(s) >= 3:\n",
    "        if s[-3:] == 'ing': return s +'ly'\n",
    "        else: return s + 'ing'\n",
    "    else: return s"
   ]
  },
  {
   "cell_type": "code",
   "execution_count": 497,
   "metadata": {},
   "outputs": [
    {
     "name": "stdout",
     "output_type": "stream",
     "text": [
      "hailing\n",
      "swimingly\n",
      "hl\n"
     ]
    }
   ],
   "source": [
    "print(verbing('hail'))\n",
    "print(verbing('swiming'))\n",
    "print(verbing('hl'))"
   ]
  },
  {
   "cell_type": "code",
   "execution_count": 498,
   "metadata": {},
   "outputs": [],
   "source": [
    "import math\n",
    "\n",
    "def twopart(a):\n",
    "    return a[:math.ceil(len(a)/2)], a[math.ceil(len(a)/2):]\n",
    "    \n",
    "\n",
    "def front_back(a, b):\n",
    "    a_front, a_back = twopart(a)\n",
    "    b_front, b_back = twopart(b)\n",
    "    return a_front + b_front + a_back + b_back"
   ]
  },
  {
   "cell_type": "code",
   "execution_count": 499,
   "metadata": {},
   "outputs": [
    {
     "name": "stdout",
     "output_type": "stream",
     "text": [
      "abxcdy\n",
      "abcxydez\n",
      "KitDontenut\n"
     ]
    }
   ],
   "source": [
    "print(front_back('abcd', 'xy'))\n",
    "print(front_back('abcde', 'xyz'))\n",
    "print(front_back('Kitten', 'Donut'))"
   ]
  },
  {
   "cell_type": "code",
   "execution_count": 500,
   "metadata": {},
   "outputs": [],
   "source": [
    "def mimic_dict(string):\n",
    "    s = string.replace('\\n', ' ')\n",
    "    s = s.replace('\\t', ' ')\n",
    "    l = s.split()\n",
    "    d = {'': [l[0]]}\n",
    "    for i in range(len(l)-1):\n",
    "        if l[i] in d.keys():\n",
    "            d[l[i]].append(l[i+1])\n",
    "        else:\n",
    "            d[l[i]] = [l[i+1]]\n",
    "    return d"
   ]
  },
  {
   "cell_type": "code",
   "execution_count": 501,
   "metadata": {},
   "outputs": [
    {
     "name": "stdout",
     "output_type": "stream",
     "text": [
      "{'': ['Uno'], 'Uno': ['dos'], 'dos': ['tres'], 'tres': ['cuatro'], 'cuatro': ['cinco']}\n",
      "{'': ['a'], 'a': ['cat', 'dog', 'fly'], 'cat': ['and'], 'and': ['a'], 'dog': ['a']}\n"
     ]
    }
   ],
   "source": [
    "s = 'Uno dos tres cuatro cinco'\n",
    "print(mimic_dict(s))\n",
    "\n",
    "s = '''a cat and a dog\n",
    "a fly'''\n",
    "print(mimic_dict(s))"
   ]
  },
  {
   "cell_type": "code",
   "execution_count": 502,
   "metadata": {},
   "outputs": [],
   "source": [
    "# 1. разбиваем список word на слова сплитом\n",
    "# 2. i присваиваем word[0] - первое слово и сразу добавляем его в результирующий список через аппенд\n",
    "# 3. счетчику слов назначаем 1\n",
    "# 4. пока счетчик != 200\n",
    "#      если i in mimic_dict:\n",
    "#           i присваиваем случайно выбранный элемент из значения словаря по ключу i -  random.choice(mimic_dict[i]), добавляем i в результирующий список, счетчик+=1\n",
    "#       иначе: i присваиваем random.choice(mimic_dict['']), добавляем i в результирующий список, счетчик+=1\n",
    "# 5. Переводим список в строку, у меня было так for i in result: s+=i+' '. Потом пересохранила строку до последнего элемента (это был пробел), return s"
   ]
  },
  {
   "cell_type": "code",
   "execution_count": 503,
   "metadata": {},
   "outputs": [],
   "source": [
    "import random\n",
    "\n",
    "def print_mimic(mimic_dict, word):\n",
    "    \"\"\"Given mimic dict and start word, return 200 random words.\"\"\"\n",
    "    words = word.split()\n",
    "    k = words[0]\n",
    "    r = [k]\n",
    "    i = 1\n",
    "    while i < 200:\n",
    "        if k in mimic_dict.keys(): k = random.choice(mimic_dict[k])\n",
    "        else: k = random.choice(mimic_dict[''])\n",
    "        r.append(k)\n",
    "        i += 1\n",
    "    words = ' '.join(r)\n",
    "    return words"
   ]
  }
 ],
 "metadata": {
  "kernelspec": {
   "display_name": "Python 3",
   "language": "python",
   "name": "python3"
  },
  "language_info": {
   "codemirror_mode": {
    "name": "ipython",
    "version": 3
   },
   "file_extension": ".py",
   "mimetype": "text/x-python",
   "name": "python",
   "nbconvert_exporter": "python",
   "pygments_lexer": "ipython3",
   "version": "3.12.3"
  },
  "orig_nbformat": 4,
  "vscode": {
   "interpreter": {
    "hash": "916dbcbb3f70747c44a77c7bcd40155683ae19c65e1c03b4aa3499c5328201f1"
   }
  }
 },
 "nbformat": 4,
 "nbformat_minor": 2
}
