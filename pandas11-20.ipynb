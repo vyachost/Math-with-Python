{
 "cells": [
  {
   "cell_type": "code",
   "execution_count": 21,
   "metadata": {},
   "outputs": [],
   "source": [
    "import numpy as np\n",
    "import pandas as pd"
   ]
  },
  {
   "cell_type": "code",
   "execution_count": 22,
   "metadata": {},
   "outputs": [],
   "source": [
    "df = pd.DataFrame(  {\n",
    "                    'animal': ['cat', 'cat', 'snake', 'dog', 'dog', 'cat', 'snake', 'cat', 'dog', 'dog'],\n",
    "                    'age': [2.5, 3, 0.5, np.nan, 5, 2, 4.5, np.nan, 7, 3],\n",
    "                    'name': ['Murzik', 'Pushok', 'Kaa', 'Bobik', 'Strelka', 'Vaska', 'Kaa2', 'Murka', 'Graf', 'Muhtar'],\n",
    "                    'visits': [1, 3, 2, 3, 2, 3, 1, 1, 2, 1],\n",
    "                    'priority': ['yes', 'yes', 'no', 'yes', 'no', 'no', 'no', 'yes', 'no', 'no']\n",
    "                    }, \n",
    "                    index = ['a', 'b', 'c', 'd', 'e', 'f', 'g', 'h', 'i', 'j']\n",
    "                )"
   ]
  },
  {
   "cell_type": "markdown",
   "metadata": {},
   "source": [
    "# #11"
   ]
  },
  {
   "cell_type": "code",
   "execution_count": 23,
   "metadata": {},
   "outputs": [
    {
     "name": "stdout",
     "output_type": "stream",
     "text": [
      "  animal  age    name  visits priority\n",
      "a    cat  2.5  Murzik       1      yes\n",
      "f    cat  2.0   Vaska       3       no\n"
     ]
    }
   ],
   "source": [
    "filter_names = [\"animal\", \"age\"]\n",
    "filter_values = [\"cat\", 3]\n",
    "print(df[(df[filter_names[0]] == filter_values[0]) & (df[filter_names[1]] < filter_values[1])])\n"
   ]
  },
  {
   "cell_type": "markdown",
   "metadata": {},
   "source": [
    "# #12"
   ]
  },
  {
   "cell_type": "code",
   "execution_count": 24,
   "metadata": {},
   "outputs": [
    {
     "name": "stdout",
     "output_type": "stream",
     "text": [
      "  animal  age    name  visits priority\n",
      "a    cat  2.5  Murzik       1      yes\n",
      "b    cat  3.0  Pushok       3      yes\n",
      "f    cat  2.0   Vaska       3       no\n",
      "j    dog  3.0  Muhtar       1       no\n"
     ]
    }
   ],
   "source": [
    "age_between = [2, 4]\n",
    "print(df[df['age'].between(age_between[0], age_between[1])])"
   ]
  },
  {
   "cell_type": "markdown",
   "metadata": {},
   "source": [
    "# #13.1"
   ]
  },
  {
   "cell_type": "code",
   "execution_count": 25,
   "metadata": {},
   "outputs": [
    {
     "name": "stdout",
     "output_type": "stream",
     "text": [
      "  animal  age     name  visits priority\n",
      "a    cat  2.5   Murzik       1      yes\n",
      "b    cat  3.0   Pushok       3      yes\n",
      "c  snake  0.5      Kaa       2       no\n",
      "d    dog  NaN    Bobik       3      yes\n",
      "e    dog  5.0  Strelka       2       no\n",
      "f    cat  3.0    Vaska       3       no\n",
      "g  snake  4.5     Kaa2       1       no\n",
      "h    cat  NaN    Murka       1      yes\n",
      "i    dog  7.0     Graf       2       no\n",
      "j    dog  3.0   Muhtar       1       no\n"
     ]
    }
   ],
   "source": [
    "index = 'f'\n",
    "df.loc[index, 'age'] += 1\n",
    "print(df)"
   ]
  },
  {
   "cell_type": "markdown",
   "metadata": {},
   "source": [
    "# #13.2"
   ]
  },
  {
   "cell_type": "code",
   "execution_count": 26,
   "metadata": {},
   "outputs": [
    {
     "name": "stdout",
     "output_type": "stream",
     "text": [
      "  animal  age     name  visits priority\n",
      "a    cat  3.5   Murzik       1      yes\n",
      "b    cat  4.0   Pushok       3      yes\n",
      "c  snake  1.5      Kaa       2       no\n",
      "d    dog  NaN    Bobik       3      yes\n",
      "e    dog  6.0  Strelka       2       no\n",
      "f    cat  4.0    Vaska       3       no\n",
      "g  snake  5.5     Kaa2       1       no\n",
      "h    cat  NaN    Murka       1      yes\n",
      "i    dog  8.0     Graf       2       no\n",
      "j    dog  4.0   Muhtar       1       no\n"
     ]
    }
   ],
   "source": [
    "df['age'] +=1\n",
    "print(df)"
   ]
  },
  {
   "cell_type": "markdown",
   "metadata": {},
   "source": [
    "# #14.1"
   ]
  },
  {
   "cell_type": "code",
   "execution_count": 28,
   "metadata": {},
   "outputs": [
    {
     "name": "stdout",
     "output_type": "stream",
     "text": [
      "36.5\n"
     ]
    }
   ],
   "source": [
    "print(df['age'].sum())"
   ]
  },
  {
   "cell_type": "markdown",
   "metadata": {},
   "source": [
    "# #14.2"
   ]
  },
  {
   "cell_type": "code",
   "execution_count": 55,
   "metadata": {},
   "outputs": [
    {
     "name": "stdout",
     "output_type": "stream",
     "text": [
      "age:36.5\n",
      "visits:19\n"
     ]
    }
   ],
   "source": [
    "a = df.select_dtypes(include=['float64', 'int64']).columns.tolist()\n",
    "for i in a:\n",
    "    print(str(i) + ':' + str(df[i].sum()))\n"
   ]
  },
  {
   "cell_type": "markdown",
   "metadata": {},
   "source": [
    "# #15"
   ]
  },
  {
   "cell_type": "code",
   "execution_count": 66,
   "metadata": {},
   "outputs": [
    {
     "name": "stdout",
     "output_type": "stream",
     "text": [
      "designation\n",
      "CEO    24.0\n",
      "CFO    35.0\n",
      "MD     35.0\n",
      "VP     31.0\n",
      "Name: age, dtype: float64\n"
     ]
    }
   ],
   "source": [
    "df = pd.DataFrame(\n",
    "    {\n",
    "        'name' : [\"Alex\", \"Bob\", \"Carmen\", \"Diaz\", \"Ella\",\"Forman\", \"Glen\"],\n",
    "        'age' : [20, 27, 35, 55, 18, 21, 35],\n",
    "        'designation': [\"VP\", \"CEO\", \"CFO\", \"VP\", \"VP\", \"CEO\", \"MD\"]\n",
    "    }\n",
    ")\n",
    "\n",
    "group_by = \"designation\"\n",
    "\n",
    "print(df.groupby(group_by)['age'].mean())\n"
   ]
  },
  {
   "cell_type": "markdown",
   "metadata": {},
   "source": [
    "# #16"
   ]
  },
  {
   "cell_type": "code",
   "execution_count": 67,
   "metadata": {},
   "outputs": [
    {
     "name": "stdout",
     "output_type": "stream",
     "text": [
      "  animal  age     name visits priority\n",
      "a    cat  2.5   Murzik      1      yes\n",
      "b    cat  3.0   Pushok      3      yes\n",
      "c  snake  0.5      Kaa      2       no\n",
      "d    dog  NaN    Bobik      3      yes\n",
      "e    dog  5.0  Strelka      2       no\n",
      "g  snake  4.5     Kaa2      1       no\n",
      "h    cat  NaN    Murka      1      yes\n",
      "i    dog  7.0     Graf      2       no\n",
      "j    dog  3.0   Muhtar      1       no\n",
      "k    5.5  dog    Belka     no        2\n"
     ]
    }
   ],
   "source": [
    "df = pd.DataFrame(\n",
    "    {\n",
    "        'animal': ['cat', 'cat', 'snake', 'dog', 'dog', 'cat', 'snake', 'cat', 'dog', 'dog'],\n",
    "        'age': [2.5, 3, 0.5, np.nan, 5, 2, 4.5, np.nan, 7, 3],\n",
    "        'name': ['Murzik', 'Pushok', 'Kaa', 'Bobik', 'Strelka', 'Vaska', 'Kaa2', 'Murka', 'Graf', 'Muhtar'],\n",
    "        'visits': [1, 3, 2, 3, 2, 3, 1, 1, 2, 1],\n",
    "        'priority': ['yes', 'yes', 'no', 'yes', 'no', 'no', 'no', 'yes', 'no', 'no']\n",
    "    },\n",
    "    index = ['a', 'b', 'c', 'd', 'e', 'f', 'g', 'h', 'i', 'j']\n",
    ")\n",
    "\n",
    "new_index = \"k\"\n",
    "new_data = [5.5, \"dog\", \"Belka\", \"no\", 2]\n",
    "del_index = \"f\"\n",
    "\n",
    "df.loc[new_index] = new_data\n",
    "df = df.drop(del_index)\n",
    "print(df)"
   ]
  },
  {
   "cell_type": "markdown",
   "metadata": {},
   "source": [
    "# #17"
   ]
  },
  {
   "cell_type": "code",
   "execution_count": 109,
   "metadata": {},
   "outputs": [
    {
     "name": "stdout",
     "output_type": "stream",
     "text": [
      "animal\n",
      "cat      4\n",
      "dog      3\n",
      "snake    2\n",
      "Name: count, dtype: int64\n"
     ]
    }
   ],
   "source": [
    "df = pd.DataFrame(\n",
    "    {\n",
    "        'animal': ['cat', 'cat', 'snake', 'dog', 'dog', 'cat', 'snake', 'cat', 'dog'],\n",
    "        'age': [2.5, 3, 0.5, np.nan, 5, 2, 4.5, np.nan, 7],\n",
    "        'name': ['Murzik', 'Pushok', 'Kaa', 'Bobik', 'Strelka', 'Vaska', 'Kaa2', 'Murka', 'Graf'],\n",
    "        'visits': [1, 3, 2, 3, 2, 3, 1, 1, 2],\n",
    "        'priority': ['yes', 'yes', 'no', 'yes', 'no', 'no', 'no', 'yes', 'no']\n",
    "    },\n",
    "    index = ['a', 'b', 'c', 'd', 'e', 'f', 'g', 'h', 'i']\n",
    ")\n",
    "\n",
    "group_by = \"animal\"\n",
    "\n",
    "print(df[group_by].value_counts())\n"
   ]
  },
  {
   "cell_type": "markdown",
   "metadata": {},
   "source": [
    "# #18"
   ]
  },
  {
   "cell_type": "code",
   "execution_count": 110,
   "metadata": {},
   "outputs": [
    {
     "name": "stdout",
     "output_type": "stream",
     "text": [
      "  animal  age     name  visits priority\n",
      "i    dog  7.0     Graf       2       no\n",
      "e    dog  5.0  Strelka       2       no\n",
      "g  snake  4.5     Kaa2       1       no\n",
      "j    dog  3.0   Muhtar       1       no\n",
      "b    cat  3.0   Pushok       3      yes\n",
      "a    cat  2.5   Murzik       1      yes\n",
      "f    cat  2.0    Vaska       3       no\n",
      "c  snake  0.5      Kaa       2       no\n",
      "h    cat  NaN    Murka       1      yes\n",
      "d    dog  NaN    Bobik       3      yes\n"
     ]
    }
   ],
   "source": [
    "df = pd.DataFrame(\n",
    "    {\n",
    "        'animal': ['cat', 'cat', 'snake', 'dog', 'dog', 'cat', 'snake', 'cat', 'dog', 'dog'],\n",
    "        'age': [2.5, 3, 0.5, np.nan, 5, 2, 4.5, np.nan, 7, 3],\n",
    "        'name': ['Murzik', 'Pushok', 'Kaa', 'Bobik', 'Strelka', 'Vaska', 'Kaa2', 'Murka', 'Graf', 'Muhtar'],\n",
    "        'visits': [1, 3, 2, 3, 2, 3, 1, 1, 2, 1],\n",
    "        'priority': ['yes', 'yes', 'no', 'yes', 'no', 'no', 'no', 'yes', 'no', 'no']\n",
    "    },\n",
    "    index = ['a', 'b', 'c', 'd', 'e', 'f', 'g', 'h', 'i', 'j']\n",
    ")\n",
    "\n",
    "sort_by = [\"age\", \"visits\"]\n",
    "\n",
    "print(df.sort_values(by=sort_by, ascending=[False, True]))"
   ]
  },
  {
   "cell_type": "markdown",
   "metadata": {},
   "source": [
    "# #19"
   ]
  },
  {
   "cell_type": "code",
   "execution_count": 119,
   "metadata": {},
   "outputs": [
    {
     "name": "stdout",
     "output_type": "stream",
     "text": [
      "     name  age  on vacation designation\n",
      "0    Alex   20         True          VP\n",
      "1     Bob   27         True         CEO\n",
      "2  Carmen   35        False         CFO\n",
      "3    Diaz   55        False          VP\n",
      "4    Ella   18        False          VP\n",
      "5  Forman   21         True         CEO\n",
      "6    Glen   35        False          MD\n"
     ]
    }
   ],
   "source": [
    "df = pd.DataFrame(\n",
    "    {\n",
    "        'name' : [\"Alex\", \"Bob\", \"Carmen\", \"Diaz\", \"Ella\",\"Forman\", \"Glen\"],\n",
    "        'age' : [20, 27, 35, 55, 18, 21, 35],\n",
    "        'on vacation': [1, 1, 0, 0, 0, 1, 0],\n",
    "        'designation': [\"VP\", \"CEO\", \"CFO\", \"VP\", \"VP\", \"CEO\", \"MD\"]\n",
    "    }\n",
    ")\n",
    "\n",
    "column = \"on vacation\"\n",
    "\n",
    "df[column] = df[column].map(lambda x: True if (x == 1) or (x == 'yes')  else False)\n",
    "print(df)"
   ]
  },
  {
   "cell_type": "markdown",
   "metadata": {},
   "source": [
    "# #20"
   ]
  },
  {
   "cell_type": "code",
   "execution_count": 120,
   "metadata": {},
   "outputs": [
    {
     "name": "stdout",
     "output_type": "stream",
     "text": [
      "   animal  age     name  visits priority\n",
      "a     cat  2.5   Murzik       1      yes\n",
      "b     cat  3.0   Pushok       3      yes\n",
      "c  python  0.5      Kaa       2       no\n",
      "d     dog  NaN    Bobik       3      yes\n",
      "e     dog  5.0  Strelka       2       no\n",
      "f     cat  2.0    Vaska       3       no\n",
      "g  python  4.5     Kaa2       1       no\n",
      "h     cat  NaN    Murka       1      yes\n",
      "i     dog  7.0     Graf       2       no\n",
      "j     dog  3.0   Muhtar       1       no\n"
     ]
    }
   ],
   "source": [
    "df = pd.DataFrame(\n",
    "    {\n",
    "        'animal': ['cat', 'cat', 'snake', 'dog', 'dog', 'cat', 'snake', 'cat', 'dog', 'dog'],\n",
    "        'age': [2.5, 3, 0.5, np.nan, 5, 2, 4.5, np.nan, 7, 3],\n",
    "        'name': ['Murzik', 'Pushok', 'Kaa', 'Bobik', 'Strelka', 'Vaska', 'Kaa2', 'Murka', 'Graf', 'Muhtar'],\n",
    "        'visits': [1, 3, 2, 3, 2, 3, 1, 1, 2, 1],\n",
    "        'priority': ['yes', 'yes', 'no', 'yes', 'no', 'no', 'no', 'yes', 'no', 'no']\n",
    "    },\n",
    "    index = ['a', 'b', 'c', 'd', 'e', 'f', 'g', 'h', 'i', 'j']\n",
    ")\n",
    "\n",
    "column = 'animal'\n",
    "old_value = 'snake'\n",
    "new_value = 'python'\n",
    "\n",
    "df[column] = df[column].map(lambda x: new_value if x == old_value else x)\n",
    "print(df)\n"
   ]
  }
 ],
 "metadata": {
  "kernelspec": {
   "display_name": "Python 3",
   "language": "python",
   "name": "python3"
  },
  "language_info": {
   "codemirror_mode": {
    "name": "ipython",
    "version": 3
   },
   "file_extension": ".py",
   "mimetype": "text/x-python",
   "name": "python",
   "nbconvert_exporter": "python",
   "pygments_lexer": "ipython3",
   "version": "3.13.1"
  }
 },
 "nbformat": 4,
 "nbformat_minor": 2
}
