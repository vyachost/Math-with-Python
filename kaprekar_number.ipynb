{
 "cells": [
  {
   "cell_type": "code",
   "execution_count": 239,
   "metadata": {},
   "outputs": [],
   "source": [
    "def convertTo(num, toBase = 10):\n",
    "    base = '0123456789ABCDEFGHIJKLMNOPQRSTUVWXYZ'\n",
    "    if int(num) // toBase == 0: \n",
    "        return base[int(num) % toBase]\n",
    "    else: \n",
    "        return convertTo(str(int(num,) // toBase), toBase) + base[int(num) % toBase]\n",
    "    \n",
    "def convert(num, to_base=10, from_base=10):\n",
    "    return convertTo(str(int(str(num), base=from_base)), to_base)"
   ]
  },
  {
   "cell_type": "code",
   "execution_count": 240,
   "metadata": {},
   "outputs": [
    {
     "data": {
      "text/plain": [
       "'26'"
      ]
     },
     "execution_count": 240,
     "metadata": {},
     "output_type": "execute_result"
    }
   ],
   "source": [
    "convert(16, 8, 16)"
   ]
  },
  {
   "cell_type": "code",
   "execution_count": 241,
   "metadata": {},
   "outputs": [],
   "source": [
    "def kaprekar(n, base = 10):\n",
    "    num = convert(n, 10, base)\n",
    "    quadro = int(num)**2\n",
    "    num2 = convert(quadro, base, 10)\n",
    "    i = 1\n",
    "    while i < len(num2):\n",
    "        x = int(num2[:i], base)\n",
    "        y = int(num2[i:], base)\n",
    "        if (x != 0) and (y != 0) and (x + y) == int(num):\n",
    "            return True\n",
    "        i += 1\n",
    "    return False\n"
   ]
  },
  {
   "cell_type": "code",
   "execution_count": 242,
   "metadata": {},
   "outputs": [
    {
     "name": "stdout",
     "output_type": "stream",
     "text": [
      "True\n"
     ]
    }
   ],
   "source": [
    "print(kaprekar(45))"
   ]
  }
 ],
 "metadata": {
  "kernelspec": {
   "display_name": "Python 3",
   "language": "python",
   "name": "python3"
  },
  "language_info": {
   "codemirror_mode": {
    "name": "ipython",
    "version": 3
   },
   "file_extension": ".py",
   "mimetype": "text/x-python",
   "name": "python",
   "nbconvert_exporter": "python",
   "pygments_lexer": "ipython3",
   "version": "3.12.3"
  }
 },
 "nbformat": 4,
 "nbformat_minor": 2
}
