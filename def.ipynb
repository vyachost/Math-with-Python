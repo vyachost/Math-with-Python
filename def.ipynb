{
 "cells": [
  {
   "cell_type": "markdown",
   "metadata": {},
   "source": [
    "## Limit of function"
   ]
  },
  {
   "cell_type": "code",
   "execution_count": 1,
   "metadata": {},
   "outputs": [],
   "source": [
    "# import of exponent\n",
    "from math import exp"
   ]
  },
  {
   "cell_type": "code",
   "execution_count": 2,
   "metadata": {},
   "outputs": [],
   "source": [
    "# function from example\n",
    "def f(x):\n",
    "    return (exp(x)-1)/x"
   ]
  },
  {
   "cell_type": "code",
   "execution_count": 3,
   "metadata": {},
   "outputs": [
    {
     "name": "stdout",
     "output_type": "stream",
     "text": [
      "6.361845641062556\n",
      "3.194528049465325\n",
      "1.718281828459045\n",
      "1.2974425414002564\n",
      "1.0517091807564771\n",
      "1.005016708416795\n",
      "1.0005001667083846\n",
      "1.000050001667141\n",
      "1.000005000006965\n"
     ]
    }
   ],
   "source": [
    "# right limit => 1.0\n",
    "x0 = 0\n",
    "dx_list = [3, 2, 1, 0.5, 0.1, 0.01, 0.001, 0.0001, 0.00001]\n",
    "for i in dx_list:\n",
    "    print(f(x0+i))"
   ]
  },
  {
   "cell_type": "code",
   "execution_count": 4,
   "metadata": {},
   "outputs": [
    {
     "name": "stdout",
     "output_type": "stream",
     "text": [
      "0.3167376438773787\n",
      "0.43233235838169365\n",
      "0.6321205588285577\n",
      "0.7869386805747332\n",
      "0.9516258196404048\n",
      "0.9950166250831893\n",
      "0.9995001666249781\n",
      "0.9999500016666385\n",
      "0.9999950000172396\n"
     ]
    }
   ],
   "source": [
    "# left limit => 1.0\n",
    "x0 = 0\n",
    "dx_list = [3, 2, 1, 0.5, 0.1, 0.01, 0.001, 0.0001, 0.00001]\n",
    "for i in dx_list:\n",
    "    print(f(x0-i))"
   ]
  },
  {
   "cell_type": "markdown",
   "metadata": {},
   "source": [
    "## Limit of function"
   ]
  },
  {
   "cell_type": "code",
   "execution_count": null,
   "metadata": {},
   "outputs": [],
   "source": []
  }
 ],
 "metadata": {
  "kernelspec": {
   "display_name": "Python 3",
   "language": "python",
   "name": "python3"
  },
  "language_info": {
   "codemirror_mode": {
    "name": "ipython",
    "version": 3
   },
   "file_extension": ".py",
   "mimetype": "text/x-python",
   "name": "python",
   "nbconvert_exporter": "python",
   "pygments_lexer": "ipython3",
   "version": "3.12.3"
  },
  "orig_nbformat": 4,
  "vscode": {
   "interpreter": {
    "hash": "916dbcbb3f70747c44a77c7bcd40155683ae19c65e1c03b4aa3499c5328201f1"
   }
  }
 },
 "nbformat": 4,
 "nbformat_minor": 2
}
