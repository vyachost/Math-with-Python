{
 "cells": [
  {
   "cell_type": "code",
   "execution_count": 83,
   "metadata": {},
   "outputs": [],
   "source": [
    "import numpy as np"
   ]
  },
  {
   "cell_type": "markdown",
   "metadata": {},
   "source": [
    "# #31"
   ]
  },
  {
   "cell_type": "code",
   "execution_count": 84,
   "metadata": {},
   "outputs": [],
   "source": [
    "# oldSettings = np.seterr(all='ignore')"
   ]
  },
  {
   "cell_type": "markdown",
   "metadata": {},
   "source": [
    "# #32"
   ]
  },
  {
   "cell_type": "code",
   "execution_count": 85,
   "metadata": {},
   "outputs": [
    {
     "name": "stderr",
     "output_type": "stream",
     "text": [
      "C:\\Users\\viach\\AppData\\Local\\Temp\\ipykernel_3188\\244602691.py:1: RuntimeWarning: invalid value encountered in sqrt\n",
      "  np.sqrt(-1) == np.emath.sqrt(-1)\n"
     ]
    },
    {
     "data": {
      "text/plain": [
       "np.False_"
      ]
     },
     "execution_count": 85,
     "metadata": {},
     "output_type": "execute_result"
    }
   ],
   "source": [
    "np.sqrt(-1) == np.emath.sqrt(-1)"
   ]
  },
  {
   "cell_type": "markdown",
   "metadata": {},
   "source": [
    "# #33"
   ]
  },
  {
   "cell_type": "code",
   "execution_count": 86,
   "metadata": {},
   "outputs": [
    {
     "name": "stdout",
     "output_type": "stream",
     "text": [
      "2025-03-24\n",
      "NaT\n",
      "NaT\n",
      "NaT\n",
      "2025-03-26\n",
      "2025-03-25\n"
     ]
    }
   ],
   "source": [
    "print(np.datetime64('today')-1)\n",
    "print(np.datetime64('nat'))\n",
    "# print(np.datetime64('yesterday'))\n",
    "print(np.datetime64('nat')+1)\n",
    "print(np.datetime64('nat')-1)\n",
    "print(np.datetime64('today')+1)\n",
    "print(np.datetime64('today'))\n",
    "# print(np.datetime64('tomorrow'))"
   ]
  },
  {
   "cell_type": "markdown",
   "metadata": {},
   "source": [
    "# #34"
   ]
  },
  {
   "cell_type": "code",
   "execution_count": 87,
   "metadata": {},
   "outputs": [
    {
     "name": "stdout",
     "output_type": "stream",
     "text": [
      "['2025-01-01' '2025-01-02' '2025-01-03' '2025-01-04' '2025-01-05'\n",
      " '2025-01-06' '2025-01-07' '2025-01-08' '2025-01-09' '2025-01-10'\n",
      " '2025-01-11' '2025-01-12' '2025-01-13' '2025-01-14' '2025-01-15'\n",
      " '2025-01-16' '2025-01-17' '2025-01-18' '2025-01-19' '2025-01-20'\n",
      " '2025-01-21' '2025-01-22' '2025-01-23' '2025-01-24' '2025-01-25'\n",
      " '2025-01-26' '2025-01-27' '2025-01-28' '2025-01-29' '2025-01-30'\n",
      " '2025-01-31' '2025-02-01' '2025-02-02' '2025-02-03' '2025-02-04'\n",
      " '2025-02-05' '2025-02-06' '2025-02-07' '2025-02-08' '2025-02-09'\n",
      " '2025-02-10' '2025-02-11' '2025-02-12' '2025-02-13' '2025-02-14'\n",
      " '2025-02-15' '2025-02-16' '2025-02-17' '2025-02-18' '2025-02-19'\n",
      " '2025-02-20' '2025-02-21' '2025-02-22' '2025-02-23' '2025-02-24'\n",
      " '2025-02-25' '2025-02-26' '2025-02-27' '2025-02-28']\n"
     ]
    }
   ],
   "source": [
    "start_date = np.datetime64('2025', 'D')\n",
    "end_date = np.datetime64('2025-03', 'D')\n",
    "z = np.arange(start_date, end_date)\n",
    "print(z)\n"
   ]
  },
  {
   "cell_type": "markdown",
   "metadata": {},
   "source": [
    "# #37.1"
   ]
  },
  {
   "cell_type": "code",
   "execution_count": 88,
   "metadata": {},
   "outputs": [
    {
     "data": {
      "text/plain": [
       "array([[ 6.,  7.,  8.,  9., 10.],\n",
       "       [ 6.,  7.,  8.,  9., 10.],\n",
       "       [ 6.,  7.,  8.,  9., 10.]])"
      ]
     },
     "execution_count": 88,
     "metadata": {},
     "output_type": "execute_result"
    }
   ],
   "source": [
    "n, m = 3, 5\n",
    "k = 6\n",
    "Z = np.zeros((n, m)) + np.arange(k, k+m)\n",
    "Z"
   ]
  },
  {
   "cell_type": "markdown",
   "metadata": {},
   "source": [
    "# #37.2"
   ]
  },
  {
   "cell_type": "code",
   "execution_count": 89,
   "metadata": {},
   "outputs": [
    {
     "data": {
      "text/plain": [
       "array([[6., 6., 6., 6., 6.],\n",
       "       [7., 7., 7., 7., 7.],\n",
       "       [8., 8., 8., 8., 8.]])"
      ]
     },
     "execution_count": 89,
     "metadata": {},
     "output_type": "execute_result"
    }
   ],
   "source": [
    "n, m = 3, 5\n",
    "k = 6\n",
    "Z = np.zeros((n, m)) + np.arange(k, k + n).reshape(n, 1)\n",
    "Z"
   ]
  },
  {
   "cell_type": "markdown",
   "metadata": {},
   "source": [
    "# #38"
   ]
  },
  {
   "cell_type": "code",
   "execution_count": 90,
   "metadata": {},
   "outputs": [
    {
     "data": {
      "text/plain": [
       "array([0., 1., 2., 3., 4., 5., 6., 7., 8., 9.])"
      ]
     },
     "execution_count": 90,
     "metadata": {},
     "output_type": "execute_result"
    }
   ],
   "source": [
    "V = range(10)\n",
    "Z = np.fromiter(V, dtype=float, count=-1)\n",
    "Z\n"
   ]
  },
  {
   "cell_type": "markdown",
   "metadata": {},
   "source": [
    "# #39.1"
   ]
  },
  {
   "cell_type": "code",
   "execution_count": 91,
   "metadata": {},
   "outputs": [
    {
     "data": {
      "text/plain": [
       "array([0.091, 0.182, 0.273, 0.364, 0.455, 0.545, 0.636, 0.727, 0.818,\n",
       "       0.909])"
      ]
     },
     "execution_count": 91,
     "metadata": {},
     "output_type": "execute_result"
    }
   ],
   "source": [
    "a = 0\n",
    "b = 1\n",
    "n = 10\n",
    "\n",
    "Z = np.around(np.linspace(a, b, n + 2, )[1:-1], decimals=3)\n",
    "Z\n"
   ]
  },
  {
   "cell_type": "markdown",
   "metadata": {},
   "source": [
    "# #39.2"
   ]
  },
  {
   "cell_type": "code",
   "execution_count": 92,
   "metadata": {},
   "outputs": [
    {
     "data": {
      "text/plain": [
       "array([   1.,   10.,  100., 1000.])"
      ]
     },
     "execution_count": 92,
     "metadata": {},
     "output_type": "execute_result"
    }
   ],
   "source": [
    "a = 1\n",
    "b = 1000\n",
    "n = 4\n",
    "Z = np.around(np.geomspace(a, b, num=n), decimals=3)\n",
    "Z\n"
   ]
  },
  {
   "cell_type": "markdown",
   "metadata": {},
   "source": [
    "# 40"
   ]
  },
  {
   "cell_type": "code",
   "execution_count": 95,
   "metadata": {},
   "outputs": [
    {
     "data": {
      "text/plain": [
       "array([0.05808361, 0.15599452, 0.15601864, 0.37454012, 0.59865848,\n",
       "       0.60111501, 0.70807258, 0.73199394, 0.86617615, 0.95071431])"
      ]
     },
     "execution_count": 95,
     "metadata": {},
     "output_type": "execute_result"
    }
   ],
   "source": [
    "seed = 42\n",
    "n = 10\n",
    "Z = np.sort(np.random.RandomState(seed).rand(n))\n",
    "Z"
   ]
  }
 ],
 "metadata": {
  "kernelspec": {
   "display_name": "Python 3",
   "language": "python",
   "name": "python3"
  },
  "language_info": {
   "codemirror_mode": {
    "name": "ipython",
    "version": 3
   },
   "file_extension": ".py",
   "mimetype": "text/x-python",
   "name": "python",
   "nbconvert_exporter": "python",
   "pygments_lexer": "ipython3",
   "version": "3.13.1"
  }
 },
 "nbformat": 4,
 "nbformat_minor": 2
}
