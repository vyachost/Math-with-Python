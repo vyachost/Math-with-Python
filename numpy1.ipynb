{
 "cells": [
  {
   "cell_type": "code",
   "execution_count": 269,
   "metadata": {},
   "outputs": [],
   "source": [
    "import numpy as np"
   ]
  },
  {
   "cell_type": "code",
   "execution_count": 270,
   "metadata": {},
   "outputs": [],
   "source": [
    "s = '1, 2, 3, 4, 5.0, 6, 7, 8, 9, 10'\n",
    "l = list(map(float, s.split(',')))\n",
    "\n",
    "V1 = np.array(l)\n",
    "V2 = np.array(l[-2])\n",
    "V3 = np.array(l[::-1])\n",
    "V4 = np.array([l[i] for i in range(0,len(l),3)])\n",
    "V5 = np.array([i for i in range(len(l))])"
   ]
  },
  {
   "cell_type": "code",
   "execution_count": 271,
   "metadata": {},
   "outputs": [],
   "source": [
    "\n",
    "a = list(map(int, '1, 2, 3, 4'.split(',')))\n",
    "b = list(map(int, '10, 20, 30, 40'.split(',')))\n",
    "V1 = np.array(a)\n",
    "V2 = np.array(b)\n",
    "V3 = V1 + V2\n",
    "V4 = V1[::2]*V2[::-2]"
   ]
  },
  {
   "cell_type": "code",
   "execution_count": 272,
   "metadata": {},
   "outputs": [],
   "source": [
    "\n",
    "x = '1, 2, 3, 4, 5, 6'\n",
    "y = '1, 2, 3, 4'\n",
    "xl = list(map(int, x.split(',')))\n",
    "yl = list(map(int, y.split(',')))\n",
    "V1 = np.array(xl)\n",
    "V2 = np.array(yl)\n",
    "V = np.array(V1[V1 % V2[-2] == 0] / V2[-2])"
   ]
  },
  {
   "cell_type": "code",
   "execution_count": 273,
   "metadata": {},
   "outputs": [
    {
     "name": "stdout",
     "output_type": "stream",
     "text": [
      "18.0\n"
     ]
    }
   ],
   "source": [
    "A1 = np.array((-1, 1))\n",
    "A2 = np.array((2, 5))\n",
    "A3 = np.array((5, -3))\n",
    "\n",
    "a = A2 - A1\n",
    "b = A3 - A2\n",
    "c = A3 - A1\n",
    "la = np.sqrt(a[0]**2 + a[1]**2)\n",
    "lb = np.sqrt(b[0]**2 + b[1]**2)\n",
    "lc = np.sqrt(c[0]**2 + c[1]**2)\n",
    "p = (la+lb+lc)/2\n",
    "s = np.sqrt(p*(p-la)*(p-lb)*(p-lc))\n",
    "print(round(s, 4))\n"
   ]
  },
  {
   "cell_type": "code",
   "execution_count": 274,
   "metadata": {},
   "outputs": [
    {
     "name": "stdout",
     "output_type": "stream",
     "text": [
      "4 4\n",
      "\n",
      "[[1.00000000e+00 2.00000000e+00 2.00855369e+01 0.00000000e+00]\n",
      " [4.00000000e+00 5.00000000e+00 4.03428793e+02 0.00000000e+00]\n",
      " [0.00000000e+00 5.00000000e-01 1.64872127e+00 1.22464680e-16]\n",
      " [7.00000000e+00 8.00000000e+00 8.10308393e+03 0.00000000e+00]]\n"
     ]
    }
   ],
   "source": [
    "def f1(x):\n",
    "    return np.sin(x*np.pi/6)\n",
    "def f2(x):\n",
    "    return np.exp(x)\n",
    "\n",
    "M1 = np.array((\n",
    "    (1., 2., 3., 0.),\n",
    "    (4., 5., 6., 0.),\n",
    "    (0., 1., 1., 6.),\n",
    "    (7., 8., 9., 0.)\n",
    "))\n",
    "\n",
    "M2 = M1\n",
    "x, y = M1.shape\n",
    "\n",
    "M2[-2] = f1(M1[-2])\n",
    "M2[:,-2] = f2(M2[:,-2])\n",
    "\n"
   ]
  }
 ],
 "metadata": {
  "kernelspec": {
   "display_name": "Python 3",
   "language": "python",
   "name": "python3"
  },
  "language_info": {
   "codemirror_mode": {
    "name": "ipython",
    "version": 3
   },
   "file_extension": ".py",
   "mimetype": "text/x-python",
   "name": "python",
   "nbconvert_exporter": "python",
   "pygments_lexer": "ipython3",
   "version": "3.13.0"
  }
 },
 "nbformat": 4,
 "nbformat_minor": 2
}
