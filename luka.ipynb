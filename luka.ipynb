{
 "cells": [
  {
   "cell_type": "markdown",
   "metadata": {},
   "source": [
    "## Послідовність Луки, розширення послідовності Фібоначі для довільних чисел"
   ]
  },
  {
   "cell_type": "code",
   "execution_count": 63,
   "metadata": {},
   "outputs": [],
   "source": [
    "from decimal import *\n",
    "getcontext().prec = 50\n",
    "\n",
    "L0 = 2\n",
    "L1 = 1"
   ]
  },
  {
   "cell_type": "code",
   "execution_count": 64,
   "metadata": {},
   "outputs": [],
   "source": [
    "def f(n):\n",
    "    l = []\n",
    "    for i in range(2, n-1):\n",
    "        while n % i == 0: \n",
    "            l.append(i)\n",
    "            n = int(n / i)\n",
    "        d = {}\n",
    "        for i in sorted(list(set(l)), reverse=True):\n",
    "            d[i] = l.count(i)\n",
    "    return d"
   ]
  },
  {
   "cell_type": "code",
   "execution_count": 65,
   "metadata": {},
   "outputs": [],
   "source": [
    "def lukaTabl(n):\n",
    "    t = {   0: 2, 1: 1, 2: 3, 3: 4, 4: 7, 5: 11, 6: 18, 7: 29, 8: 47, 9: 76, 10: 123, 11: 199, 12: 322, 13: 521, 14: 843, 15: 1364, \n",
    "            16: 2207, 17: 3571, 18: 5778, 19: 9349, 20: 15127, 21: 24476, 22: 39603, 23: 64079, 24: 103682, 25: 167761, 26: 271443, 27: 439204, 28: 710647, 29: 1149851, \n",
    "            30: 1860498, 31: 3010349, 32: 4870847, 33: 7881196, 34: 12752043, 35: 20633239, 36: 33385282, 37: 54018521, 38: 87403803\n",
    "    }\n",
    "    return t[n]\n",
    "\n",
    "def luka(n):\n",
    "    l37 = lukaTabl(37)\n",
    "    l38 = lukaTabl(38)\n",
    "    for i in range(39, n+1):\n",
    "        l37, l38 = l38, l37+l38\n",
    "    return l38\n"
   ]
  },
  {
   "cell_type": "code",
   "execution_count": 66,
   "metadata": {},
   "outputs": [
    {
     "name": "stdout",
     "output_type": "stream",
     "text": [
      "33385282\n",
      "41473935220454921602871195774259272002\n"
     ]
    }
   ],
   "source": [
    "def super_L(n):\n",
    "    if n < 39:\n",
    "        return lukaTabl(n)\n",
    "    else:\n",
    "        if n % 5 == 0:\n",
    "            a = super_L(int(n/5))\n",
    "            return (a**5) - 5 * ((-1)**int(n/5)) * (a**3) + 5 * a\n",
    "        elif n % 3 == 0:\n",
    "                a = super_L(int(n/3))\n",
    "                return a**3 - 3 * ((-1)**int(n/3)) * a\n",
    "        elif n % 2 == 0:\n",
    "            return super_L(int(n/2))**2 - 2 * (-1)**int(n/2)\n",
    "        else: luka(n)\n",
    "\n",
    "\n",
    "print(super_L(36))\n",
    "print(super_L(180))\n"
   ]
  }
 ],
 "metadata": {
  "kernelspec": {
   "display_name": "Python 3",
   "language": "python",
   "name": "python3"
  },
  "language_info": {
   "codemirror_mode": {
    "name": "ipython",
    "version": 3
   },
   "file_extension": ".py",
   "mimetype": "text/x-python",
   "name": "python",
   "nbconvert_exporter": "python",
   "pygments_lexer": "ipython3",
   "version": "3.12.3"
  }
 },
 "nbformat": 4,
 "nbformat_minor": 2
}
