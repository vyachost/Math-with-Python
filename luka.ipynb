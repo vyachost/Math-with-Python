{
 "cells": [
  {
   "cell_type": "code",
   "execution_count": 14,
   "metadata": {},
   "outputs": [],
   "source": [
    "from decimal import *\n",
    "getcontext().prec = 50\n",
    "\n",
    "L0 = 2\n",
    "L1 = 1"
   ]
  },
  {
   "cell_type": "code",
   "execution_count": 15,
   "metadata": {},
   "outputs": [],
   "source": [
    "def luka(n):\n",
    "    l0 = L0\n",
    "    l1 = L1\n",
    "    if n == 0: return l0\n",
    "    elif n == 1: return l1\n",
    "    else:\n",
    "        for i in range(2, n+1):\n",
    "            l0, l1 = l1, l0+l1\n",
    "        return l1"
   ]
  },
  {
   "cell_type": "code",
   "execution_count": 16,
   "metadata": {},
   "outputs": [],
   "source": [
    "def lukaTabl(n):\n",
    "    t = {   0: 2, 1: 1, 2: 3, 3: 4, 4: 7, 5: 11, 6: 18, 7: 29, 8: 47, 9: 76, 10: 123, 11: 199, 12: 322, 13: 521, 14: 843, 15: 1364, \n",
    "            16: 2207, 17: 3571, 18: 5778, 19: 9349, 20: 15127, 21: 24476, 22: 39603, 23: 64079, 24: 103682, 25: 167761, 26: 271443, 27: 439204, 28: 710647, 29: 1149851, \n",
    "            30: 1860498, 31: 3010349, 32: 4870847, 33: 7881196, 34: 12752043, 35: 20633239, 36: 33385282, 37: 54018521, 38: 87403803\n",
    "    }\n",
    "    return t[n]\n",
    "\n",
    "def luka2(n):\n",
    "    return luka(int(n/2))**2 - 2 * (-1)**int(n/2)\n",
    "\n",
    "def luka3(n):\n",
    "    a = luka(int(n/3))\n",
    "    return a**3 - 3 * ((-1)**int(n/3)) * a\n",
    "\n",
    "def luka5(n):\n",
    "    a = luka(int(n/5))\n",
    "    return (a**5) - 5 * ((-1)**int(n/5)) * (a**3) + 5 * a"
   ]
  },
  {
   "cell_type": "code",
   "execution_count": 20,
   "metadata": {},
   "outputs": [
    {
     "name": "stdout",
     "output_type": "stream",
     "text": [
      "[5, 5, 61]\n",
      "{61: 1, 5: 2}\n"
     ]
    }
   ],
   "source": [
    "def super_L(n):\n",
    "    if n < 39:\n",
    "        return lukaTabl(n)\n",
    "    else:\n",
    "        l = []\n",
    "        for i in range(2, n-1):\n",
    "            while n % i == 0: \n",
    "                l.append(i)\n",
    "                n = int(n / i)\n",
    "        \n",
    "        s = set(l)\n",
    "        d = {}\n",
    "        for i in s:\n",
    "            d[i] = l.count(i)\n",
    "        print(d)\n",
    "\n",
    "super_L(1525)"
   ]
  }
 ],
 "metadata": {
  "kernelspec": {
   "display_name": "Python 3",
   "language": "python",
   "name": "python3"
  },
  "language_info": {
   "codemirror_mode": {
    "name": "ipython",
    "version": 3
   },
   "file_extension": ".py",
   "mimetype": "text/x-python",
   "name": "python",
   "nbconvert_exporter": "python",
   "pygments_lexer": "ipython3",
   "version": "3.12.3"
  }
 },
 "nbformat": 4,
 "nbformat_minor": 2
}
