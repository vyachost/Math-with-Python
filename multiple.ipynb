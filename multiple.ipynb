{
 "cells": [
  {
   "cell_type": "code",
   "execution_count": 55,
   "metadata": {},
   "outputs": [],
   "source": [
    "def wisdom_multiplication(x, y, length_check = True):\n",
    "    a = 100 - x\n",
    "    b = 100 - y\n",
    "    n1 = str(100 - (a + b))\n",
    "    n2 = str(a * b)\n",
    "    if length_check and len(n2) == 1: n2 = '0' + n2\n",
    "    return n1 + n2"
   ]
  },
  {
   "cell_type": "code",
   "execution_count": 56,
   "metadata": {},
   "outputs": [],
   "source": [
    "def multiplication_check_list(start=10, stop=99, length_check = True):\n",
    "    x, y = 0, 0\n",
    "    for i in range(start, stop+1):    \n",
    "        for j in range(start, stop+1):\n",
    "            if int(wisdom_multiplication(i, j, length_check)) == i*j: x += 1\n",
    "            else: y +=1\n",
    "    print('Правильных результатов:', x)\n",
    "    print('Неправильных результатов:', y)"
   ]
  }
 ],
 "metadata": {
  "kernelspec": {
   "display_name": "Python 3",
   "language": "python",
   "name": "python3"
  },
  "language_info": {
   "codemirror_mode": {
    "name": "ipython",
    "version": 3
   },
   "file_extension": ".py",
   "mimetype": "text/x-python",
   "name": "python",
   "nbconvert_exporter": "python",
   "pygments_lexer": "ipython3",
   "version": "3.12.3"
  }
 },
 "nbformat": 4,
 "nbformat_minor": 2
}
