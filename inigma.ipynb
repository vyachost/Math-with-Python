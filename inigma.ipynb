{
 "cells": [
  {
   "cell_type": "code",
   "execution_count": 186,
   "metadata": {},
   "outputs": [],
   "source": [
    "RDICT = {1: ('AELTPHQXRU', 'BKNW', 'CMOY', 'DFG', 'IV', 'JZ', 'S'),\n",
    "        2: ('FIXVYOMW', 'CDKLHUP', 'ESZ', 'BJ', 'GR', 'NT', 'A', 'Q'),\n",
    "        3: ('ABDHPEJT', 'CFLVMZOYQIRWUKXSG', 'N'),\n",
    "        4: ('AEPLIYWCOXMRFZBSTGJQNH', 'DV', 'KU'),\n",
    "        5: ('AVOLDRWFIUQ', 'BZKSMNHYC', 'EGTJPX'),\n",
    "        6: ('AJQDVLEOZWIYTS', 'CGMNHFUX', 'BPRK'),\n",
    "        7: ('ANOUPFRIMBZTLWKSVEGCJYDHXQ'),\n",
    "        8: ('AFLSETWUNDHOZVICQ', 'BKJ', 'GXY', 'MPR'),\n",
    "        'beta': ('ALBEVFCYODJWUGNMQTZSKPR', 'HIX'),\n",
    "        'gamma': ('AFNIRLBSQWVXGUZDKMTPCOYJHE'),\n",
    "}\n",
    "\n",
    "ROTORS = {0: 'ABCDEFGHIJKLMNOPQRSTUVWXYZ',\n",
    "        1: 'EKMFLGDQVZNTOWYHXUSPAIBRCJ',\n",
    "        2: 'AJDKSIRUXBLHWTMCQGZNPYFVOE',\n",
    "        3: 'BDFHJLCPRTXVZNYEIWGAKMUSQO',\n",
    "        4: 'ESOVPZJAYQUIRHXLNFTGKDCMWB',\n",
    "        5: 'VZBRGITYUPSDNHLXAWMJQOFECK',\n",
    "        6: 'JPGVOUMFYQBENHZRDKASXLICTW',\n",
    "        7: 'NZJHGRCXMYSWBOUFAIVLPEKQDT', \n",
    "        8: 'FKQHTLXOCBJSPDZRAMEWNIUYGV',\n",
    "        'beta': 'LEYJVCNIXWPBQMDRTAKZGFUHOS',\n",
    "        'gamma': 'FSOKANUERHMBTIYCWLQPZXVGJD'\n",
    "}\n",
    "\n",
    "REFLECTORS = {0: 'ABCDEFGHIJKLMNOPQRSTUVWXYZ',\n",
    "        1: 'YRUHQSLDPXNGOKMIEBFZCWVJAT',\n",
    "        2: 'FVPJIAOYEDRZXWGCTKUQSBNMHL',\n",
    "        3: 'ENKQAUYWJICOPBLMDXZVFTHRGS',\n",
    "        4: 'RDOBJNTKVEHMLFCWZAXGYIPSUQ',\n",
    "}"
   ]
  },
  {
   "cell_type": "code",
   "execution_count": 187,
   "metadata": {},
   "outputs": [],
   "source": [
    "def rotor(symbol, n, reverse=False):\n",
    "    if reverse:\n",
    "        return ROTORS[0][ROTORS[n].find(symbol)]\n",
    "    else:\n",
    "        return ROTORS[n][ROTORS[0].find(symbol)]"
   ]
  },
  {
   "cell_type": "code",
   "execution_count": 188,
   "metadata": {},
   "outputs": [],
   "source": [
    "def reflector(symbol, n):\n",
    "    return REFLECTORS[n][REFLECTORS[0].find(symbol)]"
   ]
  },
  {
   "cell_type": "code",
   "execution_count": null,
   "metadata": {},
   "outputs": [],
   "source": []
  },
  {
   "cell_type": "code",
   "execution_count": 189,
   "metadata": {},
   "outputs": [],
   "source": [
    "def enigma(text, ref, rot1, shift1, rot2, shift2, rot3, shift3):\n",
    "    l = ''\n",
    "    dshift1, dshift2,dshift3 = shift1, shift2, shift3\n",
    "    for i in text:\n",
    "        if i not in ' ,;\\'.\\\"!?':\n",
    "            ch3 = ROTORS[0][(ROTORS[0].find(i.upper()) + dshift3) % len(ROTORS[0])]\n",
    "            a = rotor(ch3, rot3)\n",
    "            ch2 = ROTORS[0][(ROTORS[0].find(a) - dshift3 + dshift2) % len(ROTORS[0])]\n",
    "            b = rotor(ch2, rot2)\n",
    "            ch1 = ROTORS[0][(ROTORS[0].find(b) - dshift2 + dshift1) % len(ROTORS[0])]\n",
    "            c = rotor(ch1, rot1)\n",
    "            ch0 = ROTORS[0][(ROTORS[0].find(c) - dshift1) % len(ROTORS[0])]\n",
    "            r = reflector(ch0, ref)\n",
    "            ch0 = ROTORS[0][(ROTORS[0].find(r) + dshift1) % len(ROTORS[0])]\n",
    "            c = rotor(ch0, rot1, True)\n",
    "            ch1 = ROTORS[0][(ROTORS[0].find(c) + dshift2 - dshift1) % len(ROTORS[0])]\n",
    "            b = rotor(ch1, rot2, True)\n",
    "            ch2 = ROTORS[0][(ROTORS[0].find(b) + dshift3 - dshift2) % len(ROTORS[0])]\n",
    "            a = rotor(ch2, rot3, True)\n",
    "            ch3 = ROTORS[0][(ROTORS[0].find(a) - dshift3) % len(ROTORS[0])]\n",
    "            l += ch3\n",
    "            dshift3 = (dshift3 + 1) % len(ROTORS[0])\n",
    "            \n",
    "    return l"
   ]
  },
  {
   "cell_type": "code",
   "execution_count": 190,
   "metadata": {},
   "outputs": [
    {
     "data": {
      "text/plain": [
       "'U'"
      ]
     },
     "execution_count": 190,
     "metadata": {},
     "output_type": "execute_result"
    }
   ],
   "source": [
    "enigma('A', 1, 1, 0, 2, 0, 3, 0)"
   ]
  }
 ],
 "metadata": {
  "kernelspec": {
   "display_name": "Python 3",
   "language": "python",
   "name": "python3"
  },
  "language_info": {
   "codemirror_mode": {
    "name": "ipython",
    "version": 3
   },
   "file_extension": ".py",
   "mimetype": "text/x-python",
   "name": "python",
   "nbconvert_exporter": "python",
   "pygments_lexer": "ipython3",
   "version": "3.12.3"
  }
 },
 "nbformat": 4,
 "nbformat_minor": 2
}
